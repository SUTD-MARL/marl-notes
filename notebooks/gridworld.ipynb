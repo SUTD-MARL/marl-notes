{
 "cells": [
  {
   "cell_type": "markdown",
   "metadata": {},
   "source": [
    "# Gridworld"
   ]
  },
  {
   "cell_type": "code",
   "execution_count": 11,
   "metadata": {},
   "outputs": [],
   "source": [
    "import numpy as np\n",
    "import os, sys\n",
    "\n",
    "sys.path.insert(\n",
    "    1,\n",
    "    os.path.realpath(\n",
    "        os.path.join(os.path.pardir, \"reinforcement-learning-exercises\")\n",
    "    )\n",
    ")\n",
    "\n",
    "from lib.envs.gridworld import GridworldEnv"
   ]
  },
  {
   "cell_type": "markdown",
   "metadata": {},
   "source": [
    "## Policy evaluation"
   ]
  },
  {
   "cell_type": "code",
   "execution_count": 12,
   "metadata": {},
   "outputs": [],
   "source": [
    "env = GridworldEnv()"
   ]
  },
  {
   "cell_type": "code",
   "execution_count": 26,
   "metadata": {},
   "outputs": [],
   "source": [
    "def policy_eval(policy, env, discount_factor=1.0,\n",
    "                theta=0.00001):\n",
    "    V = np.zeros(env.nS)\n",
    "    new_V = np.ones(env.nS)\n",
    "    distance = 1\n",
    "    while distance > theta:\n",
    "        for s in range(env.nS):\n",
    "            actions = env.P[s]\n",
    "            new_V[s] = sum([\n",
    "                policy[s, a] * (transitions[0][2] + discount_factor * sum([\n",
    "                    transition[0] * V[transition[1]] for transition in transitions\n",
    "                ])) for a, transitions in actions.items()\n",
    "            ])\n",
    "        \n",
    "        distance = np.linalg.norm(V - new_V)\n",
    "        V = new_V.copy()        \n",
    "        \n",
    "    return np.array(V)"
   ]
  },
  {
   "cell_type": "code",
   "execution_count": 27,
   "metadata": {},
   "outputs": [],
   "source": [
    "random_policy = np.ones([env.nS, env.nA]) / env.nA\n",
    "v = policy_eval(random_policy, env)"
   ]
  },
  {
   "cell_type": "code",
   "execution_count": 28,
   "metadata": {},
   "outputs": [
    {
     "data": {
      "text/plain": [
       "array([[  0.        , -13.9999661 , -19.99994976, -21.99994378],\n",
       "       [-13.9999661 , -17.99995574, -19.9999501 , -19.99994976],\n",
       "       [-19.99994976, -19.9999501 , -17.99995574, -13.9999661 ],\n",
       "       [-21.99994378, -19.99994976, -13.9999661 ,   0.        ]])"
      ]
     },
     "execution_count": 28,
     "metadata": {},
     "output_type": "execute_result"
    }
   ],
   "source": [
    "np.reshape(v, (4,4))"
   ]
  }
 ],
 "metadata": {
  "kernelspec": {
   "display_name": "Python 3",
   "language": "python",
   "name": "python3"
  },
  "language_info": {
   "codemirror_mode": {
    "name": "ipython",
    "version": 3
   },
   "file_extension": ".py",
   "mimetype": "text/x-python",
   "name": "python",
   "nbconvert_exporter": "python",
   "pygments_lexer": "ipython3",
   "version": "3.8.2"
  }
 },
 "nbformat": 4,
 "nbformat_minor": 4
}
